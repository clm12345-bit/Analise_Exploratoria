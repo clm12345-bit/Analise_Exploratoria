{
 "cells": [
  {
   "cell_type": "code",
   "execution_count": 1,
   "metadata": {},
   "outputs": [],
   "source": [
    "import pandas as pd"
   ]
  },
  {
   "cell_type": "code",
   "execution_count": 2,
   "metadata": {},
   "outputs": [
    {
     "data": {
      "text/html": [
       "<div>\n",
       "<style scoped>\n",
       "    .dataframe tbody tr th:only-of-type {\n",
       "        vertical-align: middle;\n",
       "    }\n",
       "\n",
       "    .dataframe tbody tr th {\n",
       "        vertical-align: top;\n",
       "    }\n",
       "\n",
       "    .dataframe thead th {\n",
       "        text-align: right;\n",
       "    }\n",
       "</style>\n",
       "<table border=\"1\" class=\"dataframe\">\n",
       "  <thead>\n",
       "    <tr style=\"text-align: right;\">\n",
       "      <th></th>\n",
       "      <th>Unnamed: 0</th>\n",
       "      <th>prova_realizada_em</th>\n",
       "      <th>dia_da_prova_realizada</th>\n",
       "      <th>nota</th>\n",
       "      <th>nota_redacao</th>\n",
       "      <th>horario_da_prova</th>\n",
       "      <th>sexo</th>\n",
       "      <th>estado_civil</th>\n",
       "      <th>escolaridade</th>\n",
       "      <th>cidade_de_nascimento</th>\n",
       "      <th>bairro</th>\n",
       "    </tr>\n",
       "  </thead>\n",
       "  <tbody>\n",
       "    <tr>\n",
       "      <th>0</th>\n",
       "      <td>0</td>\n",
       "      <td>GO - Goiás</td>\n",
       "      <td>13/01/2017</td>\n",
       "      <td>7,45</td>\n",
       "      <td>2,2</td>\n",
       "      <td>manhã</td>\n",
       "      <td>Masculino</td>\n",
       "      <td>Casado(a)</td>\n",
       "      <td>Ensino médio</td>\n",
       "      <td>fortaleza</td>\n",
       "      <td>Asa Sul</td>\n",
       "    </tr>\n",
       "    <tr>\n",
       "      <th>1</th>\n",
       "      <td>1</td>\n",
       "      <td>GO - Goiás</td>\n",
       "      <td>10/01/2017</td>\n",
       "      <td>7,4</td>\n",
       "      <td>2,4</td>\n",
       "      <td>manhã</td>\n",
       "      <td>Masculino</td>\n",
       "      <td>Casado(a)</td>\n",
       "      <td>Especialização</td>\n",
       "      <td>Recife</td>\n",
       "      <td>Norte (Águas Claras)</td>\n",
       "    </tr>\n",
       "    <tr>\n",
       "      <th>2</th>\n",
       "      <td>2</td>\n",
       "      <td>GO - Goiás</td>\n",
       "      <td>07/01/2017</td>\n",
       "      <td>7,3</td>\n",
       "      <td>1,8</td>\n",
       "      <td>manhã</td>\n",
       "      <td>Masculino</td>\n",
       "      <td>Casado(a)</td>\n",
       "      <td>Superior</td>\n",
       "      <td>BRASILIA</td>\n",
       "      <td>Setor Sudoeste</td>\n",
       "    </tr>\n",
       "    <tr>\n",
       "      <th>3</th>\n",
       "      <td>3</td>\n",
       "      <td>GO - Goiás</td>\n",
       "      <td>02/01/2017</td>\n",
       "      <td>7,2</td>\n",
       "      <td>1,7</td>\n",
       "      <td>Noite</td>\n",
       "      <td>Masculino</td>\n",
       "      <td>Solteiro(a)</td>\n",
       "      <td>Ensino médio</td>\n",
       "      <td>Brasília</td>\n",
       "      <td>Setor Norte</td>\n",
       "    </tr>\n",
       "    <tr>\n",
       "      <th>4</th>\n",
       "      <td>4</td>\n",
       "      <td>GO - Goiás</td>\n",
       "      <td>09/01/2017</td>\n",
       "      <td>6,95</td>\n",
       "      <td>1,7</td>\n",
       "      <td>manhã</td>\n",
       "      <td>Feminino</td>\n",
       "      <td>Solteiro(a)</td>\n",
       "      <td>Superior</td>\n",
       "      <td>BRASÍLIA</td>\n",
       "      <td>Guará I</td>\n",
       "    </tr>\n",
       "  </tbody>\n",
       "</table>\n",
       "</div>"
      ],
      "text/plain": [
       "   Unnamed: 0 prova_realizada_em dia_da_prova_realizada  nota nota_redacao  \\\n",
       "0           0         GO - Goiás             13/01/2017  7,45          2,2   \n",
       "1           1         GO - Goiás             10/01/2017   7,4          2,4   \n",
       "2           2         GO - Goiás             07/01/2017   7,3          1,8   \n",
       "3           3         GO - Goiás             02/01/2017   7,2          1,7   \n",
       "4           4         GO - Goiás             09/01/2017  6,95          1,7   \n",
       "\n",
       "  horario_da_prova       sexo estado_civil    escolaridade  \\\n",
       "0            manhã  Masculino    Casado(a)    Ensino médio   \n",
       "1            manhã  Masculino    Casado(a)  Especialização   \n",
       "2            manhã  Masculino    Casado(a)        Superior   \n",
       "3            Noite  Masculino  Solteiro(a)    Ensino médio   \n",
       "4            manhã   Feminino  Solteiro(a)        Superior   \n",
       "\n",
       "  cidade_de_nascimento                bairro  \n",
       "0            fortaleza               Asa Sul  \n",
       "1               Recife  Norte (Águas Claras)  \n",
       "2             BRASILIA        Setor Sudoeste  \n",
       "3             Brasília           Setor Norte  \n",
       "4             BRASÍLIA               Guará I  "
      ]
     },
     "execution_count": 2,
     "metadata": {},
     "output_type": "execute_result"
    }
   ],
   "source": [
    "f_nota = pd.read_csv('C:/Users/Tiago/AppData/Roaming/jupyter/runtime/BDR.csv', sep=',', encoding='cp1252')\n",
    "\n",
    "f_nota.head()"
   ]
  },
  {
   "cell_type": "code",
   "execution_count": 7,
   "metadata": {},
   "outputs": [],
   "source": [
    "f_nota['nota'] = f_nota['nota'].str.replace(',', '.')"
   ]
  },
  {
   "cell_type": "code",
   "execution_count": 8,
   "metadata": {},
   "outputs": [],
   "source": [
    "f_nota['nota'] = f_nota['nota'].astype(float)"
   ]
  },
  {
   "cell_type": "code",
   "execution_count": 9,
   "metadata": {},
   "outputs": [],
   "source": [
    "f_nota['nota_redacao'] = f_nota['nota_redacao'].str.replace(',', '.')"
   ]
  },
  {
   "cell_type": "code",
   "execution_count": 10,
   "metadata": {},
   "outputs": [],
   "source": [
    "f_nota['nota_redacao'] = f_nota['nota_redacao'].astype(float)"
   ]
  },
  {
   "cell_type": "code",
   "execution_count": 11,
   "metadata": {},
   "outputs": [],
   "source": [
    "# PÚBLICO ALVO IDEAL\n",
    "# pa_g1 = público alvo - grupo 1 - perfil vencedor (alunos aprovados melhores notas);\n",
    "# Público alvo ideal - Alunos que tiveram nota maior ou igual a 8 e não zeraram na prova de redação;\n",
    "# Este é um grupo de 'elite' que pode servir como referencia para os demais grupos à medida em que seu desempenho\n",
    "# tem potencial para atrair e motivar outros alunos; \n",
    "\n",
    "pa_g1 = f_nota[(f_nota['nota'] >=8) & (f_nota['nota'] <=10) & (f_nota['nota_redacao'] > 0)]"
   ]
  },
  {
   "cell_type": "code",
   "execution_count": 31,
   "metadata": {},
   "outputs": [
    {
     "data": {
      "text/html": [
       "<div>\n",
       "<style scoped>\n",
       "    .dataframe tbody tr th:only-of-type {\n",
       "        vertical-align: middle;\n",
       "    }\n",
       "\n",
       "    .dataframe tbody tr th {\n",
       "        vertical-align: top;\n",
       "    }\n",
       "\n",
       "    .dataframe thead th {\n",
       "        text-align: right;\n",
       "    }\n",
       "</style>\n",
       "<table border=\"1\" class=\"dataframe\">\n",
       "  <thead>\n",
       "    <tr style=\"text-align: right;\">\n",
       "      <th></th>\n",
       "      <th>Unnamed: 0</th>\n",
       "      <th>nota</th>\n",
       "      <th>nota_redacao</th>\n",
       "    </tr>\n",
       "  </thead>\n",
       "  <tbody>\n",
       "    <tr>\n",
       "      <th>count</th>\n",
       "      <td>176.000000</td>\n",
       "      <td>176.000000</td>\n",
       "      <td>176.000000</td>\n",
       "    </tr>\n",
       "    <tr>\n",
       "      <th>mean</th>\n",
       "      <td>7664.698864</td>\n",
       "      <td>8.401420</td>\n",
       "      <td>2.033523</td>\n",
       "    </tr>\n",
       "    <tr>\n",
       "      <th>std</th>\n",
       "      <td>2402.328013</td>\n",
       "      <td>0.387572</td>\n",
       "      <td>0.272682</td>\n",
       "    </tr>\n",
       "    <tr>\n",
       "      <th>min</th>\n",
       "      <td>41.000000</td>\n",
       "      <td>8.000000</td>\n",
       "      <td>1.100000</td>\n",
       "    </tr>\n",
       "    <tr>\n",
       "      <th>25%</th>\n",
       "      <td>7482.750000</td>\n",
       "      <td>8.137500</td>\n",
       "      <td>1.900000</td>\n",
       "    </tr>\n",
       "    <tr>\n",
       "      <th>50%</th>\n",
       "      <td>7912.000000</td>\n",
       "      <td>8.300000</td>\n",
       "      <td>2.000000</td>\n",
       "    </tr>\n",
       "    <tr>\n",
       "      <th>75%</th>\n",
       "      <td>9332.250000</td>\n",
       "      <td>8.600000</td>\n",
       "      <td>2.200000</td>\n",
       "    </tr>\n",
       "    <tr>\n",
       "      <th>max</th>\n",
       "      <td>10166.000000</td>\n",
       "      <td>10.000000</td>\n",
       "      <td>2.500000</td>\n",
       "    </tr>\n",
       "  </tbody>\n",
       "</table>\n",
       "</div>"
      ],
      "text/plain": [
       "         Unnamed: 0        nota  nota_redacao\n",
       "count    176.000000  176.000000    176.000000\n",
       "mean    7664.698864    8.401420      2.033523\n",
       "std     2402.328013    0.387572      0.272682\n",
       "min       41.000000    8.000000      1.100000\n",
       "25%     7482.750000    8.137500      1.900000\n",
       "50%     7912.000000    8.300000      2.000000\n",
       "75%     9332.250000    8.600000      2.200000\n",
       "max    10166.000000   10.000000      2.500000"
      ]
     },
     "execution_count": 31,
     "metadata": {},
     "output_type": "execute_result"
    }
   ],
   "source": [
    "# Estatística do público alvo ideal:\n",
    "# Representa (1,45%) da população total de alunos (12.100);\n",
    "# Média da nota da prova (8,40); média da nota da redação (2,03). Existe uma correlação alta entre as variáveis;\n",
    "# Variância dos resultados da prova (38,75%); variância dos resultados da nota da redação (27,26%);\n",
    "# Até 75% dos alunos tiveram com nota da prova (8,60) e da redação (2,20);\n",
    "# A nota máxima da prova foi (10) e da redação (2,50);\n",
    "# A nota mínima deste grupo na prova foi (8,00) e na redação (1,10).\n",
    "pa_g1.describe()"
   ]
  },
  {
   "cell_type": "code",
   "execution_count": 12,
   "metadata": {},
   "outputs": [
    {
     "data": {
      "text/plain": [
       "RJ - Rio de Janeiro         35\n",
       "BA - Bahia                  24\n",
       "CE - Ceará                  23\n",
       "PB - Paraíba                16\n",
       "PA - Pará                   14\n",
       "GO - Goiás                  12\n",
       "MS - Mato Grosso do Sul     11\n",
       "MG - Minas Gerais           11\n",
       "SC - Santa Catarina          6\n",
       "RS - Rio Grande do Sul       5\n",
       "MA - Maranhão                4\n",
       "AM - Amazonas                3\n",
       "RO - Rondônia                3\n",
       "RR - Roraima                 3\n",
       "TO - Tocantins               3\n",
       "PI - Piauí                   1\n",
       "RN - Rio Grande do Norte     1\n",
       "PE - Pernambuco              1\n",
       "Name: prova_realizada_em, dtype: int64"
      ]
     },
     "execution_count": 12,
     "metadata": {},
     "output_type": "execute_result"
    }
   ],
   "source": [
    "# Perfil segundo a localização geográfica:\n",
    "# No que tange ao local onde a prova foi realizada destacam-se as UF: RJ, BA, CE, PB, PA\n",
    "# Representam da 1º a 5º posição;\n",
    "# Importante observar que PA foi o local com maior número de alunos: 1.556\n",
    "\n",
    "pa_g1['prova_realizada_em'].value_counts()"
   ]
  },
  {
   "cell_type": "code",
   "execution_count": 15,
   "metadata": {},
   "outputs": [],
   "source": [
    "from matplotlib.pyplot import *"
   ]
  },
  {
   "cell_type": "code",
   "execution_count": 17,
   "metadata": {},
   "outputs": [
    {
     "data": {
      "text/plain": [
       "<matplotlib.axes._subplots.AxesSubplot at 0x28c8c9266d8>"
      ]
     },
     "execution_count": 17,
     "metadata": {},
     "output_type": "execute_result"
    },
    {
     "data": {
      "image/png": "[encoded data removed]",
      "text/plain": [
       "<Figure size 432x288 with 1 Axes>"
      ]
     },
     "metadata": {
      "needs_background": "light"
     },
     "output_type": "display_data"
    }
   ],
   "source": [
    "pa_g1['nota'].value_counts().plot.bar()"
   ]
  },
  {
   "cell_type": "code",
   "execution_count": 60,
   "metadata": {},
   "outputs": [
    {
     "data": {
      "text/plain": [
       "Rio de Janeiro             3.977273\n",
       "Salvador                   3.409091\n",
       "Fortaleza                  3.409091\n",
       "João Pessoa                2.272727\n",
       "São Paulo                  2.272727\n",
       "FORTALEZA                  2.272727\n",
       "Volta Redonda              1.704545\n",
       "Barra Mansa                1.704545\n",
       "Belém                      1.704545\n",
       "SALVADOR                   1.704545\n",
       "Diamantina                 1.136364\n",
       "CAMPO GRANDE               1.136364\n",
       "BOA VISTA                  1.136364\n",
       "BARRA MANSA                1.136364\n",
       "Juiz de Fora               1.136364\n",
       "BELÉM                      1.136364\n",
       "BELO HORIZONTE             1.136364\n",
       "ALAGOA GRANDE              1.136364\n",
       "Pôrto Alegre               0.568182\n",
       "AUGUSTINÓPOLIS             0.568182\n",
       "INHAMBUPE                  0.568182\n",
       "ilheus                     0.568182\n",
       "Sousa                      0.568182\n",
       "PICOS                      0.568182\n",
       "RIO PRETO                  0.568182\n",
       "Porto Alegre               0.568182\n",
       "Belo Horizonte             0.568182\n",
       "Jacobina                   0.568182\n",
       "Mesa                       0.568182\n",
       "imperatriz                 0.568182\n",
       "                             ...   \n",
       "barra de são francisco     0.568182\n",
       "Ivinhema                   0.568182\n",
       "MOZARLÂNDIA                0.568182\n",
       "NOVA LIMA MG               0.568182\n",
       "Rondonópolis               0.568182\n",
       "carolina                   0.568182\n",
       "Conceição do Araguaia      0.568182\n",
       "URUAÇU                     0.568182\n",
       "SENHOR DO BONFIM           0.568182\n",
       "São joao do cariri         0.568182\n",
       "Cicero Dantas              0.568182\n",
       "Vitória                    0.568182\n",
       "Goiânia                    0.568182\n",
       "manaus                     0.568182\n",
       "ARACOIABA                  0.568182\n",
       "planaltina                 0.568182\n",
       "Castanhal                  0.568182\n",
       "ITAPURANGA                 0.568182\n",
       "PARIPIRANGA                0.568182\n",
       "Candeias                   0.568182\n",
       "Urubici                    0.568182\n",
       "Bom Jesus do Itabapoana    0.568182\n",
       "São Sepé                   0.568182\n",
       "MORADA NOVA                0.568182\n",
       "ROLÂNDIA                   0.568182\n",
       "PORANGATU                  0.568182\n",
       "MIGUEL PEREIRA             0.568182\n",
       "porto alegre               0.568182\n",
       "Sete Quedas                0.568182\n",
       "Florianópolis              0.568182\n",
       "Name: cidade_de_nascimento, Length: 135, dtype: float64"
      ]
     },
     "execution_count": 60,
     "metadata": {},
     "output_type": "execute_result"
    }
   ],
   "source": [
    "# Concentradas nas capitais\n",
    "pa_g1['cidade_de_nascimento'].value_counts()/176*(100)"
   ]
  },
  {
   "cell_type": "code",
   "execution_count": 61,
   "metadata": {},
   "outputs": [
    {
     "data": {
      "text/plain": [
       "Centro                         19.318182\n",
       "Setor Central                   1.704545\n",
       "Setor Oeste                     1.136364\n",
       "centro                          1.136364\n",
       "Aterrado                        1.136364\n",
       "Ano Bom                         1.136364\n",
       "Brotas                          1.136364\n",
       "Taquara                         1.136364\n",
       "Setor Goiânia 2                 0.568182\n",
       "Zona Rural                      0.568182\n",
       "Plano Diretor Sul               0.568182\n",
       "Vila Alagoana                   0.568182\n",
       "Reduto                          0.568182\n",
       "IPITANGA                        0.568182\n",
       "Maracangalha                    0.568182\n",
       "tresidela                       0.568182\n",
       "Três Marias                     0.568182\n",
       "Prefeito José Walter            0.568182\n",
       "Ururaí                          0.568182\n",
       "Jardim Apipema                  0.568182\n",
       "Alto da Balança                 0.568182\n",
       "Industrial                      0.568182\n",
       "Santa Rita                      0.568182\n",
       "Monte Castelo                   0.568182\n",
       "Parque Eldorado                 0.568182\n",
       "Água Fria                       0.568182\n",
       "Estados                         0.568182\n",
       "Sagrado Coração de Jesus        0.568182\n",
       "SÃO BENTO                       0.568182\n",
       "jd tropical                     0.568182\n",
       "                                 ...    \n",
       "FAZENDA FERRÃO                  0.568182\n",
       "cupido                          0.568182\n",
       "Monte Verde                     0.568182\n",
       "Barra                           0.568182\n",
       "Ouro Branco                     0.568182\n",
       "Parque Barcelos                 0.568182\n",
       "JARDIM ITAU                     0.568182\n",
       "Promissão II                    0.568182\n",
       "Federação                       0.568182\n",
       "Piatã                           0.568182\n",
       "Boa Viagem                      0.568182\n",
       "Vitória                         0.568182\n",
       "Paralela                        0.568182\n",
       "Jardim Placaford                0.568182\n",
       "Alvorada                        0.568182\n",
       "Bancários                       0.568182\n",
       "Chácara São Cosme               0.568182\n",
       "EXPEDICIONÁRIOS                 0.568182\n",
       "SÃO MANOEL                      0.568182\n",
       "Areia Branca                    0.568182\n",
       "Barreiros                       0.568182\n",
       "amparo                          0.568182\n",
       "Jardim Cidade Universitária     0.568182\n",
       "Taguatinga Sul (Taguatinga)     0.568182\n",
       "Antonio Cisnando                0.568182\n",
       "Pirapora                        0.568182\n",
       "Vila do mota                    0.568182\n",
       "97170                           0.568182\n",
       "Várzea das Moças                0.568182\n",
       "Jardim Amália                   0.568182\n",
       "Name: bairro, Length: 135, dtype: float64"
      ]
     },
     "execution_count": 61,
     "metadata": {},
     "output_type": "execute_result"
    }
   ],
   "source": [
    "# Concentrado no centro;\n",
    "pa_g1['bairro'].value_counts()/176*(100)"
   ]
  },
  {
   "cell_type": "code",
   "execution_count": 47,
   "metadata": {},
   "outputs": [
    {
     "data": {
      "text/plain": [
       "Masculino    73.863636\n",
       "Feminino     26.136364\n",
       "Name: sexo, dtype: float64"
      ]
     },
     "execution_count": 47,
     "metadata": {},
     "output_type": "execute_result"
    }
   ],
   "source": [
    "# Pefil dos alunos segundo o Gênero:\n",
    "# 73,86% homens e 26,13% mulheres\n",
    "pa_g1['sexo'].value_counts()/176*(100)"
   ]
  },
  {
   "cell_type": "code",
   "execution_count": 49,
   "metadata": {},
   "outputs": [
    {
     "data": {
      "text/plain": [
       "Solteiro(a)      59.659091\n",
       "Casado(a)        31.250000\n",
       "Divorciado(a)     7.386364\n",
       "Separado(a)       1.136364\n",
       "Viúvo(a)          0.568182\n",
       "Name: estado_civil, dtype: float64"
      ]
     },
     "execution_count": 49,
     "metadata": {},
     "output_type": "execute_result"
    }
   ],
   "source": [
    "# Perfil dos alunos segundo o estado civil:\n",
    "# Solteiros representam 59,65%;\n",
    "# Casados representam 31,25%;\n",
    "pa_g1['estado_civil'].value_counts()/176*100"
   ]
  },
  {
   "cell_type": "code",
   "execution_count": 54,
   "metadata": {},
   "outputs": [
    {
     "data": {
      "text/plain": [
       "Superior               43.750000\n",
       "Ensino médio           30.681818\n",
       "Superior incompleto     9.659091\n",
       "Especialização          9.090909\n",
       "Mestrado                3.409091\n",
       "Nível técnico           2.840909\n",
       "Doutorado               0.568182\n",
       "Name: escolaridade, dtype: float64"
      ]
     },
     "execution_count": 54,
     "metadata": {},
     "output_type": "execute_result"
    }
   ],
   "source": [
    "# Perfil dos alunos segundo a escolaridade:\n",
    "# Com ensino superior representam 43,75%\n",
    "# Com ensino médio representam 30,68%\n",
    "pa_g1['escolaridade'].value_counts()/176*100"
   ]
  },
  {
   "cell_type": "code",
   "execution_count": 59,
   "metadata": {},
   "outputs": [
    {
     "data": {
      "text/plain": [
       "manhã    50.0\n",
       "Noite    50.0\n",
       "Name: horario_da_prova, dtype: float64"
      ]
     },
     "execution_count": 59,
     "metadata": {},
     "output_type": "execute_result"
    }
   ],
   "source": [
    "pa_g1['horario_da_prova'].value_counts()/176*100"
   ]
  },
  {
   "cell_type": "code",
   "execution_count": 61,
   "metadata": {},
   "outputs": [
    {
     "data": {
      "text/plain": [
       "12/08/2016    12.500000\n",
       "09/08/2016    11.363636\n",
       "11/08/2016    10.227273\n",
       "06/08/2016     7.954545\n",
       "13/08/2016     7.954545\n",
       "07/08/2016     6.250000\n",
       "01/08/2016     6.250000\n",
       "08/08/2016     5.681818\n",
       "04/08/2016     5.113636\n",
       "28/07/2016     4.545455\n",
       "05/08/2016     2.840909\n",
       "30/07/2016     2.272727\n",
       "02/08/2016     2.272727\n",
       "12/01/2017     2.272727\n",
       "29/07/2016     2.272727\n",
       "10/01/2017     1.704545\n",
       "31/07/2016     1.704545\n",
       "15/01/2017     1.704545\n",
       "14/01/2017     1.136364\n",
       "17/01/2017     1.136364\n",
       "09/01/2017     0.568182\n",
       "05/01/2017     0.568182\n",
       "02/01/2017     0.568182\n",
       "06/01/2017     0.568182\n",
       "13/01/2017     0.568182\n",
       "Name: dia_da_prova_realizada, dtype: float64"
      ]
     },
     "execution_count": 61,
     "metadata": {},
     "output_type": "execute_result"
    }
   ],
   "source": [
    "# 12/08/2016 uma sexta-feira\n",
    "# 09/08/2016 uma terça-feira\n",
    "# 11/08/2016 uma quinta-feira\n",
    "pa_g1['dia_da_prova_realizada'].value_counts()/176*100"
   ]
  },
  {
   "cell_type": "code",
   "execution_count": 62,
   "metadata": {},
   "outputs": [],
   "source": [
    "rj = pa_g1[pa_g1['prova_realizada_em'] == 'RJ - Rio de Janeiro']"
   ]
  },
  {
   "cell_type": "code",
   "execution_count": 63,
   "metadata": {},
   "outputs": [
    {
     "data": {
      "text/html": [
       "<div>\n",
       "<style scoped>\n",
       "    .dataframe tbody tr th:only-of-type {\n",
       "        vertical-align: middle;\n",
       "    }\n",
       "\n",
       "    .dataframe tbody tr th {\n",
       "        vertical-align: top;\n",
       "    }\n",
       "\n",
       "    .dataframe thead th {\n",
       "        text-align: right;\n",
       "    }\n",
       "</style>\n",
       "<table border=\"1\" class=\"dataframe\">\n",
       "  <thead>\n",
       "    <tr style=\"text-align: right;\">\n",
       "      <th></th>\n",
       "      <th>Unnamed: 0</th>\n",
       "      <th>nota</th>\n",
       "      <th>nota_redacao</th>\n",
       "    </tr>\n",
       "  </thead>\n",
       "  <tbody>\n",
       "    <tr>\n",
       "      <th>count</th>\n",
       "      <td>35.000000</td>\n",
       "      <td>35.00000</td>\n",
       "      <td>35.000000</td>\n",
       "    </tr>\n",
       "    <tr>\n",
       "      <th>mean</th>\n",
       "      <td>7765.685714</td>\n",
       "      <td>8.42000</td>\n",
       "      <td>2.020000</td>\n",
       "    </tr>\n",
       "    <tr>\n",
       "      <th>std</th>\n",
       "      <td>2383.591269</td>\n",
       "      <td>0.39299</td>\n",
       "      <td>0.283673</td>\n",
       "    </tr>\n",
       "    <tr>\n",
       "      <th>min</th>\n",
       "      <td>512.000000</td>\n",
       "      <td>8.00000</td>\n",
       "      <td>1.500000</td>\n",
       "    </tr>\n",
       "    <tr>\n",
       "      <th>25%</th>\n",
       "      <td>7627.500000</td>\n",
       "      <td>8.07500</td>\n",
       "      <td>1.800000</td>\n",
       "    </tr>\n",
       "    <tr>\n",
       "      <th>50%</th>\n",
       "      <td>7636.000000</td>\n",
       "      <td>8.30000</td>\n",
       "      <td>2.000000</td>\n",
       "    </tr>\n",
       "    <tr>\n",
       "      <th>75%</th>\n",
       "      <td>8733.500000</td>\n",
       "      <td>8.70000</td>\n",
       "      <td>2.300000</td>\n",
       "    </tr>\n",
       "    <tr>\n",
       "      <th>max</th>\n",
       "      <td>10166.000000</td>\n",
       "      <td>9.20000</td>\n",
       "      <td>2.400000</td>\n",
       "    </tr>\n",
       "  </tbody>\n",
       "</table>\n",
       "</div>"
      ],
      "text/plain": [
       "         Unnamed: 0      nota  nota_redacao\n",
       "count     35.000000  35.00000     35.000000\n",
       "mean    7765.685714   8.42000      2.020000\n",
       "std     2383.591269   0.39299      0.283673\n",
       "min      512.000000   8.00000      1.500000\n",
       "25%     7627.500000   8.07500      1.800000\n",
       "50%     7636.000000   8.30000      2.000000\n",
       "75%     8733.500000   8.70000      2.300000\n",
       "max    10166.000000   9.20000      2.400000"
      ]
     },
     "execution_count": 63,
     "metadata": {},
     "output_type": "execute_result"
    }
   ],
   "source": [
    "rj.describe()"
   ]
  },
  {
   "cell_type": "code",
   "execution_count": null,
   "metadata": {},
   "outputs": [],
   "source": [
    "# ANÁLISE SINTÉTICA PERFIL PÚBBLICO ALVO IDEAL - ÁREA DE MARKETING\n",
    "# O pa_g1 público alvo ideal tem como origem geográficas estados de maior dinamicidade econômica e por consequência desenvolvimento,\n",
    "# O RJ concentra parte significativa da indústria de petróleo assim como a BA, além de montadoras, e indústria petroquímica\n",
    "# que vem a reboque destes setores. Com efeito, a renda per-capita destes regiões e superior e por consequência o nível \n",
    "# de educação. Ainda são pessoas que nasceram nesta capitais e que residem na área central.\n",
    "# Prevalece o gênero masculino, embora a melhor nota tenha sido obtida pelo gênero feminino. Este resultado pode estar associado\n",
    "# a disponbilidade de tempo para estudo. Especialmente se considerado o estado civil, de solteiro.\n",
    "# A prevalência do nível de escolaridade 'superior' reforça a correlação entre tempo de estudo e resultados obtidos."
   ]
  },
  {
   "cell_type": "code",
   "execution_count": 2,
   "metadata": {},
   "outputs": [],
   "source": [
    "import pandas as pd\n",
    "s_nota = pd.read_csv('C:/Users/Tiago/AppData/Roaming/jupyter/runtime/BDR.csv', sep=',', encoding='cp1252')\n",
    "s_nota['nota'] = s_nota['nota'].str.replace(',', '.')\n",
    "s_nota['nota'] = s_nota['nota'].astype(float)\n",
    "s_nota['nota_redacao'] = s_nota['nota_redacao'].str.replace(',', '.')\n",
    "s_nota['nota_redacao'] = s_nota['nota_redacao'].astype(float)"
   ]
  },
  {
   "cell_type": "code",
   "execution_count": 3,
   "metadata": {},
   "outputs": [],
   "source": [
    "# ANÁLISE DO PERFIL - TIME DE MONITORIA - AÇÕES PREVENTIVAS\n",
    "# pa_g3 = público alvo - grupo 3 - perfil alunos com possibilidade de reprovação;\n",
    "# Previsão a partir de Alunos que tiveram nota maior ou igual a 0,75 até 4,95 e que não zeraram na redação;\n",
    "pa_g3 = s_nota[(s_nota['nota'] >=0) & (s_nota['nota'] <=4.95) & (s_nota['nota_redacao'] > 0)]"
   ]
  },
  {
   "cell_type": "code",
   "execution_count": 34,
   "metadata": {},
   "outputs": [
    {
     "data": {
      "text/html": [
       "<div>\n",
       "<style scoped>\n",
       "    .dataframe tbody tr th:only-of-type {\n",
       "        vertical-align: middle;\n",
       "    }\n",
       "\n",
       "    .dataframe tbody tr th {\n",
       "        vertical-align: top;\n",
       "    }\n",
       "\n",
       "    .dataframe thead th {\n",
       "        text-align: right;\n",
       "    }\n",
       "</style>\n",
       "<table border=\"1\" class=\"dataframe\">\n",
       "  <thead>\n",
       "    <tr style=\"text-align: right;\">\n",
       "      <th></th>\n",
       "      <th>Unnamed: 0</th>\n",
       "      <th>nota</th>\n",
       "      <th>nota_redacao</th>\n",
       "    </tr>\n",
       "  </thead>\n",
       "  <tbody>\n",
       "    <tr>\n",
       "      <th>count</th>\n",
       "      <td>614.000000</td>\n",
       "      <td>614.000000</td>\n",
       "      <td>614.000000</td>\n",
       "    </tr>\n",
       "    <tr>\n",
       "      <th>mean</th>\n",
       "      <td>5437.923453</td>\n",
       "      <td>4.734039</td>\n",
       "      <td>1.288599</td>\n",
       "    </tr>\n",
       "    <tr>\n",
       "      <th>std</th>\n",
       "      <td>2491.016343</td>\n",
       "      <td>0.205704</td>\n",
       "      <td>0.306483</td>\n",
       "    </tr>\n",
       "    <tr>\n",
       "      <th>min</th>\n",
       "      <td>39.000000</td>\n",
       "      <td>3.550000</td>\n",
       "      <td>0.200000</td>\n",
       "    </tr>\n",
       "    <tr>\n",
       "      <th>25%</th>\n",
       "      <td>3726.250000</td>\n",
       "      <td>4.650000</td>\n",
       "      <td>1.100000</td>\n",
       "    </tr>\n",
       "    <tr>\n",
       "      <th>50%</th>\n",
       "      <td>5544.500000</td>\n",
       "      <td>4.750000</td>\n",
       "      <td>1.300000</td>\n",
       "    </tr>\n",
       "    <tr>\n",
       "      <th>75%</th>\n",
       "      <td>6439.750000</td>\n",
       "      <td>4.900000</td>\n",
       "      <td>1.500000</td>\n",
       "    </tr>\n",
       "    <tr>\n",
       "      <th>max</th>\n",
       "      <td>12016.000000</td>\n",
       "      <td>4.950000</td>\n",
       "      <td>1.700000</td>\n",
       "    </tr>\n",
       "  </tbody>\n",
       "</table>\n",
       "</div>"
      ],
      "text/plain": [
       "         Unnamed: 0        nota  nota_redacao\n",
       "count    614.000000  614.000000    614.000000\n",
       "mean    5437.923453    4.734039      1.288599\n",
       "std     2491.016343    0.205704      0.306483\n",
       "min       39.000000    3.550000      0.200000\n",
       "25%     3726.250000    4.650000      1.100000\n",
       "50%     5544.500000    4.750000      1.300000\n",
       "75%     6439.750000    4.900000      1.500000\n",
       "max    12016.000000    4.950000      1.700000"
      ]
     },
     "execution_count": 34,
     "metadata": {},
     "output_type": "execute_result"
    }
   ],
   "source": [
    "pa_g3.describe()"
   ]
  },
  {
   "cell_type": "code",
   "execution_count": 35,
   "metadata": {},
   "outputs": [
    {
     "data": {
      "text/plain": [
       "PA - Pará                   90\n",
       "RR - Roraima                56\n",
       "GO - Goiás                  47\n",
       "MA - Maranhão               46\n",
       "SC - Santa Catarina         44\n",
       "SE - Sergipe                35\n",
       "PB - Paraíba                33\n",
       "RO - Rondônia               32\n",
       "CE - Ceará                  29\n",
       "RN - Rio Grande do Norte    29\n",
       "RS - Rio Grande do Sul      27\n",
       "MS - Mato Grosso do Sul     25\n",
       "MT - Mato Grosso            23\n",
       "ES - Espírito Santo         21\n",
       "PI - Piauí                  20\n",
       "RJ - Rio de Janeiro         17\n",
       "BA - Bahia                  12\n",
       "MG - Minas Gerais           11\n",
       "TO - Tocantins               9\n",
       "PE - Pernambuco              6\n",
       "AM - Amazonas                2\n",
       "Name: prova_realizada_em, dtype: int64"
      ]
     },
     "execution_count": 35,
     "metadata": {},
     "output_type": "execute_result"
    }
   ],
   "source": [
    "pa_g3['prova_realizada_em'].value_counts()"
   ]
  },
  {
   "cell_type": "code",
   "execution_count": 65,
   "metadata": {},
   "outputs": [
    {
     "data": {
      "text/plain": [
       "Boa Vista                    8\n",
       "Xinguara                     8\n",
       "TERESINA                     6\n",
       "Quixadá                      5\n",
       "IMPERATRIZ                   5\n",
       "FLORIANO                     5\n",
       "Campina Grande               5\n",
       "Itabaiana                    4\n",
       "Ulianópolis                  4\n",
       "RIO BANANAL                  4\n",
       "Pastos Bons                  4\n",
       "BARÃO DE GRAJAÚ              4\n",
       "BOA VISTA                    3\n",
       "Aracaju                      3\n",
       "Quixeramobim                 3\n",
       "Cruz Alta                    3\n",
       "CRUZ ALTA                    3\n",
       "pastos bons                  3\n",
       "Maracaju                     3\n",
       "Campos dos Goytacazes        3\n",
       "maracaju                     3\n",
       "Boa vista                    3\n",
       "apodi                        3\n",
       "capanema                     3\n",
       "Rio de Janeiro               3\n",
       "São Sepé                     3\n",
       "Porto Velho                  3\n",
       "Belém                        3\n",
       "carira                       3\n",
       "Caracaraí                    2\n",
       "                            ..\n",
       "canindé                      1\n",
       "Bom Jesus                    1\n",
       "Pedro Leopoldo               1\n",
       "Santo Amaro da Imperatriz    1\n",
       "rondon do pará               1\n",
       "Paragominas                  1\n",
       "PARIPIRANGA                  1\n",
       "MACEIO                       1\n",
       "AÇAILANDIA                   1\n",
       "itapuranga                   1\n",
       "Quissamã                     1\n",
       "Lajes                        1\n",
       "Sete Lagoas                  1\n",
       "Bezerros                     1\n",
       "São Felix do Xingu           1\n",
       "Joia                         1\n",
       "tapes                        1\n",
       "lagoa de dentro              1\n",
       "rio de janeiro               1\n",
       "nova mamore-ro               1\n",
       "uruçui                       1\n",
       "Quixeramobim                 1\n",
       "sete lagoas                  1\n",
       "Jaciara                      1\n",
       "RIO DO SUL                   1\n",
       "Paulo Afonso                 1\n",
       "Brasília                     1\n",
       "Castanhal                    1\n",
       "SALINÓPOLIS                  1\n",
       "planalto pr                  1\n",
       "Name: cidade_de_nascimento, Length: 473, dtype: int64"
      ]
     },
     "execution_count": 65,
     "metadata": {},
     "output_type": "execute_result"
    }
   ],
   "source": [
    "# Predominantemente interior\n",
    "pa_g3['cidade_de_nascimento'].value_counts()"
   ]
  },
  {
   "cell_type": "code",
   "execution_count": 66,
   "metadata": {},
   "outputs": [
    {
     "data": {
      "text/plain": [
       "Centro                                     164\n",
       "ZONA RURAL                                  13\n",
       "Zona Rural                                   8\n",
       "zona rural                                   7\n",
       "Zona rural                                   7\n",
       "CENTRO                                       6\n",
       "Interior                                     5\n",
       "INTERIOR                                     5\n",
       "Setor Central                                5\n",
       "centro                                       5\n",
       "São José                                     4\n",
       "rural                                        4\n",
       "Senador Hélio Campos                         4\n",
       "Buritis                                      3\n",
       "Alto São Francisco                           3\n",
       "Centro                                       3\n",
       "ZONA RURAL                                   3\n",
       "Caranã                                       3\n",
       "Centenário                                   2\n",
       "Santos Dumont                                2\n",
       "Nossa Senhora Aparecida                      2\n",
       "Cambará                                      2\n",
       "Cauamé                                       2\n",
       "Bairro Novo                                  2\n",
       "Boa vista                                    2\n",
       "Maravilha                                    2\n",
       "Oliveira Brito                               2\n",
       "Bateias de Baixo                             2\n",
       "São Jose                                     2\n",
       "JARDIM ALVORADA                              2\n",
       "                                          ... \n",
       "sitios                                       1\n",
       "Vila Brasília Sul                            1\n",
       "União                                        1\n",
       "Rondominas                                   1\n",
       "vila hilda                                   1\n",
       "juquita                                      1\n",
       "Selectas                                     1\n",
       "Boa Vista                                    1\n",
       "Mata Redonda                                 1\n",
       "Brasília                                     1\n",
       "Catumbí                                      1\n",
       "Alexânia                                     1\n",
       "CenSanto Isidoro                             1\n",
       "PRICUMA                                      1\n",
       "Conjunto Habitacional Morada dos Sonhos      1\n",
       "Vila arco iris                               1\n",
       "Conselheiro Josino                           1\n",
       "Setor Bela Vista                             1\n",
       "parque são josé                              1\n",
       "Itapuã                                       1\n",
       "IRAPUA 1                                     1\n",
       "sitio malhada de areia                       1\n",
       "VILA GOIAS                                   1\n",
       "DAMIÃO CARNEIRO                              1\n",
       "Novo Mundo                                   1\n",
       "Jardim Paulistano                            1\n",
       "DISTRITO SÃO FRANCISCO                       1\n",
       "tracuateua                                   1\n",
       "BELA VISTA                                   1\n",
       "São Vicente                                  1\n",
       "Name: bairro, Length: 350, dtype: int64"
      ]
     },
     "execution_count": 66,
     "metadata": {},
     "output_type": "execute_result"
    }
   ],
   "source": [
    "# Predominantemente centro\n",
    "pa_g3['bairro'].value_counts()"
   ]
  },
  {
   "cell_type": "code",
   "execution_count": 4,
   "metadata": {},
   "outputs": [
    {
     "data": {
      "text/plain": [
       "Masculino    56.677524\n",
       "Feminino     42.996743\n",
       "Name: sexo, dtype: float64"
      ]
     },
     "execution_count": 4,
     "metadata": {},
     "output_type": "execute_result"
    }
   ],
   "source": [
    "pa_g3['sexo'].value_counts()/614*100"
   ]
  },
  {
   "cell_type": "code",
   "execution_count": 38,
   "metadata": {},
   "outputs": [
    {
     "data": {
      "text/plain": [
       "Solteiro(a)      65.635179\n",
       "Casado(a)        30.944625\n",
       "Divorciado(a)     1.954397\n",
       "Separado(a)       0.651466\n",
       "Viúvo(a)          0.488599\n",
       "Name: estado_civil, dtype: float64"
      ]
     },
     "execution_count": 38,
     "metadata": {},
     "output_type": "execute_result"
    }
   ],
   "source": [
    "pa_g3['estado_civil'].value_counts()/614*100"
   ]
  },
  {
   "cell_type": "code",
   "execution_count": 41,
   "metadata": {},
   "outputs": [
    {
     "data": {
      "text/plain": [
       "Ensino médio           70.358306\n",
       "Superior               17.426710\n",
       "Superior incompleto     7.980456\n",
       "Nível técnico           2.117264\n",
       "Especialização          1.465798\n",
       "Ensino fundamental      0.162866\n",
       "Mestrado                0.162866\n",
       "Name: escolaridade, dtype: float64"
      ]
     },
     "execution_count": 41,
     "metadata": {},
     "output_type": "execute_result"
    }
   ],
   "source": [
    "pa_g3['escolaridade'].value_counts()/614*100"
   ]
  },
  {
   "cell_type": "code",
   "execution_count": 42,
   "metadata": {},
   "outputs": [
    {
     "data": {
      "text/plain": [
       "Noite    59.120521\n",
       "manhã    40.553746\n",
       "Name: horario_da_prova, dtype: float64"
      ]
     },
     "execution_count": 42,
     "metadata": {},
     "output_type": "execute_result"
    }
   ],
   "source": [
    "pa_g3['horario_da_prova'].value_counts()/614*100"
   ]
  },
  {
   "cell_type": "code",
   "execution_count": null,
   "metadata": {},
   "outputs": [],
   "source": [
    "# TIME DE MONITORIA - AÇÕES PREVENTIVAS - 1º 'recote- alunos com nota acima de 0 na redação'\n",
    "# O perfil destes alunos é semelhante ao perfil dos alunos aprovados que obtiveram com nota de prova até 7,95.\n",
    "# o qual é analisado na sequência e disciminado com o perfil - aprovados;\n",
    "# Neste grupo Não há grande variância entre as notas e a média (4,70) está muito próxima ao valor de corte;\n",
    "# Com relação ao local da prova está concentrado em regiões de menor desenvolvimento econômico;\n",
    "# Prevalece uma equidade entre os gêneros e a maior parte dos alunos concentra-se no ensino médio;\n",
    "# Ainda o número de solteiro é mais que\n",
    "# dobro dos casados;\n",
    "# Análise de alunos com perfil semelhante deve ser considerada neste momento, como um alerta, considerando especialmente o grau\n",
    "# de formação e o estado civil;\n",
    "  "
   ]
  },
  {
   "cell_type": "code",
   "execution_count": 67,
   "metadata": {},
   "outputs": [],
   "source": [
    "import pandas as pd\n",
    "s_nota = pd.read_csv('C:/Users/Tiago/AppData/Roaming/jupyter/runtime/BDR.csv', sep=',', encoding='cp1252')\n",
    "s_nota['nota'] = s_nota['nota'].str.replace(',', '.')\n",
    "s_nota['nota'] = s_nota['nota'].astype(float)\n",
    "s_nota['nota_redacao'] = s_nota['nota_redacao'].str.replace(',', '.')\n",
    "s_nota['nota_redacao'] = s_nota['nota_redacao'].astype(float)"
   ]
  },
  {
   "cell_type": "code",
   "execution_count": 68,
   "metadata": {},
   "outputs": [],
   "source": [
    "# ANÁLISE DO PERFIL - TIME DE MONITORIA - AÇÕES PREVENTIVAS\n",
    "# pa_g4 = público alvo - grupo 4 - perfil alunos com possibilidade de reprovação;\n",
    "# Previsão a partir de Alunos que tiveram nota maior ou igual a 0,75 até 4,95 e que zeraram na redação;\n",
    "pa_g4 = s_nota[(s_nota['nota'] >=0) & (s_nota['nota'] <=4.95) & (s_nota['nota_redacao'] >=0)]"
   ]
  },
  {
   "cell_type": "code",
   "execution_count": 69,
   "metadata": {},
   "outputs": [
    {
     "data": {
      "text/html": [
       "<div>\n",
       "<style scoped>\n",
       "    .dataframe tbody tr th:only-of-type {\n",
       "        vertical-align: middle;\n",
       "    }\n",
       "\n",
       "    .dataframe tbody tr th {\n",
       "        vertical-align: top;\n",
       "    }\n",
       "\n",
       "    .dataframe thead th {\n",
       "        text-align: right;\n",
       "    }\n",
       "</style>\n",
       "<table border=\"1\" class=\"dataframe\">\n",
       "  <thead>\n",
       "    <tr style=\"text-align: right;\">\n",
       "      <th></th>\n",
       "      <th>Unnamed: 0</th>\n",
       "      <th>nota</th>\n",
       "      <th>nota_redacao</th>\n",
       "    </tr>\n",
       "  </thead>\n",
       "  <tbody>\n",
       "    <tr>\n",
       "      <th>count</th>\n",
       "      <td>6231.000000</td>\n",
       "      <td>6231.000000</td>\n",
       "      <td>6231.000000</td>\n",
       "    </tr>\n",
       "    <tr>\n",
       "      <th>mean</th>\n",
       "      <td>6554.455304</td>\n",
       "      <td>3.111250</td>\n",
       "      <td>0.126978</td>\n",
       "    </tr>\n",
       "    <tr>\n",
       "      <th>std</th>\n",
       "      <td>3259.789756</td>\n",
       "      <td>0.767315</td>\n",
       "      <td>0.395937</td>\n",
       "    </tr>\n",
       "    <tr>\n",
       "      <th>min</th>\n",
       "      <td>39.000000</td>\n",
       "      <td>0.750000</td>\n",
       "      <td>0.000000</td>\n",
       "    </tr>\n",
       "    <tr>\n",
       "      <th>25%</th>\n",
       "      <td>3887.500000</td>\n",
       "      <td>2.750000</td>\n",
       "      <td>0.000000</td>\n",
       "    </tr>\n",
       "    <tr>\n",
       "      <th>50%</th>\n",
       "      <td>5602.000000</td>\n",
       "      <td>3.000000</td>\n",
       "      <td>0.000000</td>\n",
       "    </tr>\n",
       "    <tr>\n",
       "      <th>75%</th>\n",
       "      <td>10520.500000</td>\n",
       "      <td>3.500000</td>\n",
       "      <td>0.000000</td>\n",
       "    </tr>\n",
       "    <tr>\n",
       "      <th>max</th>\n",
       "      <td>12099.000000</td>\n",
       "      <td>4.950000</td>\n",
       "      <td>1.700000</td>\n",
       "    </tr>\n",
       "  </tbody>\n",
       "</table>\n",
       "</div>"
      ],
      "text/plain": [
       "         Unnamed: 0         nota  nota_redacao\n",
       "count   6231.000000  6231.000000   6231.000000\n",
       "mean    6554.455304     3.111250      0.126978\n",
       "std     3259.789756     0.767315      0.395937\n",
       "min       39.000000     0.750000      0.000000\n",
       "25%     3887.500000     2.750000      0.000000\n",
       "50%     5602.000000     3.000000      0.000000\n",
       "75%    10520.500000     3.500000      0.000000\n",
       "max    12099.000000     4.950000      1.700000"
      ]
     },
     "execution_count": 69,
     "metadata": {},
     "output_type": "execute_result"
    }
   ],
   "source": [
    "pa_g4.describe()"
   ]
  },
  {
   "cell_type": "code",
   "execution_count": 70,
   "metadata": {},
   "outputs": [
    {
     "data": {
      "text/plain": [
       "PA - Pará                   929\n",
       "GO - Goiás                  761\n",
       "BA - Bahia                  476\n",
       "MG - Minas Gerais           463\n",
       "RR - Roraima                451\n",
       "MS - Mato Grosso do Sul     418\n",
       "MA - Maranhão               390\n",
       "RJ - Rio de Janeiro         292\n",
       "CE - Ceará                  262\n",
       "PB - Paraíba                261\n",
       "RO - Rondônia               244\n",
       "SC - Santa Catarina         223\n",
       "SE - Sergipe                167\n",
       "MT - Mato Grosso            167\n",
       "RN - Rio Grande do Norte    147\n",
       "RS - Rio Grande do Sul      130\n",
       "TO - Tocantins              128\n",
       "PE - Pernambuco             124\n",
       "PI - Piauí                   81\n",
       "ES - Espírito Santo          77\n",
       "AM - Amazonas                40\n",
       "Name: prova_realizada_em, dtype: int64"
      ]
     },
     "execution_count": 70,
     "metadata": {},
     "output_type": "execute_result"
    }
   ],
   "source": [
    "pa_g4['prova_realizada_em'].value_counts()"
   ]
  },
  {
   "cell_type": "code",
   "execution_count": 71,
   "metadata": {},
   "outputs": [
    {
     "data": {
      "text/plain": [
       "BOA VISTA                 61\n",
       "Boa Vista                 51\n",
       "Balsas                    47\n",
       "Paragominas               39\n",
       "Sete Lagoas               38\n",
       "Belo Horizonte            36\n",
       "PARAGOMINAS               32\n",
       "Capanema                  32\n",
       "CAPANEMA                  32\n",
       "SETE LAGOAS               32\n",
       "Boa vista                 31\n",
       "Pastos Bons               30\n",
       "IMPERATRIZ                28\n",
       "boa vista                 28\n",
       "Xinguara                  27\n",
       "Goiânia                   27\n",
       "Fortaleza                 26\n",
       "Campo Grande              26\n",
       "GOIANIA                   26\n",
       "Imperatriz                26\n",
       "Barra Mansa               25\n",
       "capanema                  25\n",
       "Maracaju                  24\n",
       "BELO HORIZONTE            24\n",
       "Belém                     22\n",
       "Quixeramobim              21\n",
       "paragominas               19\n",
       "Ulianópolis               19\n",
       "TERESINA                  19\n",
       "Cristalina                19\n",
       "                          ..\n",
       "Uruana                     1\n",
       "PI                         1\n",
       "Afogados Recife            1\n",
       "ouro predo d' oeste        1\n",
       "MARABÁ-PARÁ                1\n",
       "SÃO BERNARDO DO CAMPO      1\n",
       "Torres                     1\n",
       "Pinheiros                  1\n",
       "Senhor do Bonfim -BA       1\n",
       "CAETITE                    1\n",
       "Castelo                    1\n",
       "Arapoema                   1\n",
       "Lavras                     1\n",
       "ACARÁ                      1\n",
       "Minaçu                     1\n",
       "Uiraúna                    1\n",
       "36445                      1\n",
       "uiramuta                   1\n",
       "TIMBO                      1\n",
       "Itaobim                    1\n",
       "Montalvânia                1\n",
       "LUISBURGO                  1\n",
       "CASSILÂNDIA - MS           1\n",
       "bom jardim da serra        1\n",
       "GUANHÃES                   1\n",
       "presidente. olegario       1\n",
       "PARACATU                   1\n",
       "marapanim                  1\n",
       "Minas Gerais               1\n",
       "TACARATU                   1\n",
       "Name: cidade_de_nascimento, Length: 2932, dtype: int64"
      ]
     },
     "execution_count": 71,
     "metadata": {},
     "output_type": "execute_result"
    }
   ],
   "source": [
    "# Região Noroeste, sudoeste...\n",
    "pa_g4['cidade_de_nascimento'].value_counts()"
   ]
  },
  {
   "cell_type": "code",
   "execution_count": 72,
   "metadata": {},
   "outputs": [
    {
     "data": {
      "text/plain": [
       "Centro                                 1323\n",
       "Setor Central                           126\n",
       "ZONA RURAL                              116\n",
       "zona rural                               63\n",
       "Zona Rural                               56\n",
       "CENTRO                                   50\n",
       "centro                                   44\n",
       "Zona rural                               32\n",
       "São José                                 23\n",
       "Santo Antônio                            20\n",
       "Boa Vista                                19\n",
       "rural                                    17\n",
       "Tancredo Neves                           15\n",
       "Rural                                    15\n",
       "Alvorada                                 14\n",
       "Caranã                                   14\n",
       "BOA VISTA                                14\n",
       "Dom João VI                              14\n",
       "Cidade Nova                              14\n",
       "Asa Branca                               14\n",
       "INTERIOR                                 13\n",
       "Santa Luzia                              13\n",
       "Santa Tereza                             13\n",
       "ZONA RURAL                               13\n",
       "Santa Maria                              13\n",
       "Jardim América                           12\n",
       "Bacuri                                   12\n",
       "Centro                                   12\n",
       "Bela Vista                               12\n",
       "Marajoara                                11\n",
       "                                       ... \n",
       "Bicentenario                              1\n",
       "Conjunto ibarra                           1\n",
       "JUQUITA                                   1\n",
       "São conrado                               1\n",
       "Mimoso I                                  1\n",
       "Nova Vista                                1\n",
       "Zn RURAL                                  1\n",
       "TITIO                                     1\n",
       "Jardim Américaamerca                      1\n",
       "SÃO FELIX                                 1\n",
       "Funcionários                              1\n",
       "SANTA FÉ                                  1\n",
       "SANTA AUGUSTA                             1\n",
       "São sebastiao                             1\n",
       "Conjunto Vera Cruz                        1\n",
       "Os Canindés                               1\n",
       "Conjunto Residencial Estrela do Sul       1\n",
       "Ponte Nova                                1\n",
       "Etelvina Carneiro                         1\n",
       "Floresta                                  1\n",
       "LOTEAMENTO ELDORADO                       1\n",
       "CIDADE UNIVERCITARIA                      1\n",
       "Cajá                                      1\n",
       "Faz Boa Vista                             1\n",
       "Rio bonito                                1\n",
       "2 Dist                                    1\n",
       "Vila Ursulino                             1\n",
       "Novo Israel                               1\n",
       "Mandacaru                                 1\n",
       "setor oeste                               1\n",
       "Name: bairro, Length: 2701, dtype: int64"
      ]
     },
     "execution_count": 72,
     "metadata": {},
     "output_type": "execute_result"
    }
   ],
   "source": [
    "# Centro\n",
    "pa_g4['bairro'].value_counts()"
   ]
  },
  {
   "cell_type": "code",
   "execution_count": 74,
   "metadata": {},
   "outputs": [
    {
     "data": {
      "text/plain": [
       "Masculino    49.911732\n",
       "Feminino     49.671000\n",
       "Name: sexo, dtype: float64"
      ]
     },
     "execution_count": 74,
     "metadata": {},
     "output_type": "execute_result"
    }
   ],
   "source": [
    "# Perfil por Gênero\n",
    "pa_g4['sexo'].value_counts()/6231*100"
   ]
  },
  {
   "cell_type": "code",
   "execution_count": 76,
   "metadata": {},
   "outputs": [
    {
     "data": {
      "text/plain": [
       "Solteiro(a)      68.977692\n",
       "Casado(a)        26.223720\n",
       "Divorciado(a)     3.001123\n",
       "Separado(a)       1.123415\n",
       "Viúvo(a)          0.224683\n",
       "0                 0.032098\n",
       "Name: estado_civil, dtype: float64"
      ]
     },
     "execution_count": 76,
     "metadata": {},
     "output_type": "execute_result"
    }
   ],
   "source": [
    "# Perfil por estado civil\n",
    "pa_g4['estado_civil'].value_counts()/6231*100 "
   ]
  },
  {
   "cell_type": "code",
   "execution_count": 77,
   "metadata": {},
   "outputs": [
    {
     "data": {
      "text/plain": [
       "Ensino médio           71.930669\n",
       "Superior               14.588349\n",
       "Superior incompleto     7.045418\n",
       "Nível técnico           3.386294\n",
       "Especialização          1.765367\n",
       "Ensino fundamental      0.433317\n",
       "Mestrado                0.272829\n",
       "MBA                     0.064195\n",
       "Não informado           0.048146\n",
       "Doutorado               0.048146\n",
       "Name: escolaridade, dtype: float64"
      ]
     },
     "execution_count": 77,
     "metadata": {},
     "output_type": "execute_result"
    }
   ],
   "source": [
    "pa_g4['escolaridade'].value_counts()/6231*100"
   ]
  },
  {
   "cell_type": "code",
   "execution_count": 78,
   "metadata": {},
   "outputs": [
    {
     "data": {
      "text/plain": [
       "Noite    56.379393\n",
       "manhã    43.203338\n",
       "Name: horario_da_prova, dtype: float64"
      ]
     },
     "execution_count": 78,
     "metadata": {},
     "output_type": "execute_result"
    }
   ],
   "source": [
    "pa_g4['horario_da_prova'].value_counts()/6231*100"
   ]
  },
  {
   "cell_type": "code",
   "execution_count": null,
   "metadata": {},
   "outputs": [],
   "source": [
    "# TIME DE MONITORIA - AÇÕES PREVENTIVAS - 2º 'recote- alunos com nota a partir de 0 na redação'\n",
    "# Neste grupo há grande variância entre as notas e a média (3,11);\n",
    "# Com relação ao local da prova está concentrado em regiões Norte,Centro-Oeste e Sudoeste;\n",
    "# Prevalece uma equidade entre os gêneros e a maior parte dos alunos concentra-se no ensino médio;\n",
    "# Ainda o número de solteiro é maior que a de casados;\n",
    "# Há forte correlação entre o resultado da prova e o resultado da nota da redação, aqueles alunos que tiveram\n",
    "# o pior desempenho nas notas, obtiveram nota '0' na redação. Neste sentido, podem ser tomadas ações preventivas\n",
    "# ligadas a elaboração de textos;"
   ]
  },
  {
   "cell_type": "code",
   "execution_count": 12,
   "metadata": {},
   "outputs": [],
   "source": [
    "import pandas as pd\n",
    "s_nota = pd.read_csv('C:/Users/Tiago/AppData/Roaming/jupyter/runtime/BDR.csv', sep=',', encoding='cp1252')\n",
    "    s_nota['nota'] = s_nota['nota'].str.replace(',', '.')\n",
    "s_nota['nota'] = s_nota['nota'].astype(float)\n",
    "s_nota['nota_redacao'] = s_nota['nota_redacao'].str.replace(',', '.')\n",
    "s_nota['nota_redacao'] = s_nota['nota_redacao'].astype(float)\n"
   ]
  },
  {
   "cell_type": "code",
   "execution_count": null,
   "metadata": {},
   "outputs": [],
   "source": [
    "# pa_g2 = público alvo potencial - grupo 2 - perfil alunos aprovados;\n",
    "# Público alvo ideal - Alunos que tiveram nota maior ou igual a 5 e não zeraram na prova de redação;\n",
    "# Este é um grupo de 'aprovado' ou alunos que estão na média; \n",
    "pa_g2 = s_nota[(s_nota['nota'] >=5) & (s_nota['nota'] <=7.95) & (s_nota['nota_redacao'] > 0)]"
   ]
  },
  {
   "cell_type": "code",
   "execution_count": 13,
   "metadata": {},
   "outputs": [
    {
     "data": {
      "text/html": [
       "<div>\n",
       "<style scoped>\n",
       "    .dataframe tbody tr th:only-of-type {\n",
       "        vertical-align: middle;\n",
       "    }\n",
       "\n",
       "    .dataframe tbody tr th {\n",
       "        vertical-align: top;\n",
       "    }\n",
       "\n",
       "    .dataframe thead th {\n",
       "        text-align: right;\n",
       "    }\n",
       "</style>\n",
       "<table border=\"1\" class=\"dataframe\">\n",
       "  <thead>\n",
       "    <tr style=\"text-align: right;\">\n",
       "      <th></th>\n",
       "      <th>Unnamed: 0</th>\n",
       "      <th>nota</th>\n",
       "      <th>nota_redacao</th>\n",
       "    </tr>\n",
       "  </thead>\n",
       "  <tbody>\n",
       "    <tr>\n",
       "      <th>count</th>\n",
       "      <td>5651.000000</td>\n",
       "      <td>5651.000000</td>\n",
       "      <td>5651.000000</td>\n",
       "    </tr>\n",
       "    <tr>\n",
       "      <th>mean</th>\n",
       "      <td>5425.776500</td>\n",
       "      <td>6.071370</td>\n",
       "      <td>1.668875</td>\n",
       "    </tr>\n",
       "    <tr>\n",
       "      <th>std</th>\n",
       "      <td>3654.898507</td>\n",
       "      <td>0.709429</td>\n",
       "      <td>0.310475</td>\n",
       "    </tr>\n",
       "    <tr>\n",
       "      <th>min</th>\n",
       "      <td>0.000000</td>\n",
       "      <td>5.000000</td>\n",
       "      <td>0.300000</td>\n",
       "    </tr>\n",
       "    <tr>\n",
       "      <th>25%</th>\n",
       "      <td>1459.500000</td>\n",
       "      <td>5.500000</td>\n",
       "      <td>1.500000</td>\n",
       "    </tr>\n",
       "    <tr>\n",
       "      <th>50%</th>\n",
       "      <td>7182.000000</td>\n",
       "      <td>5.950000</td>\n",
       "      <td>1.700000</td>\n",
       "    </tr>\n",
       "    <tr>\n",
       "      <th>75%</th>\n",
       "      <td>8707.500000</td>\n",
       "      <td>6.550000</td>\n",
       "      <td>1.900000</td>\n",
       "    </tr>\n",
       "    <tr>\n",
       "      <th>max</th>\n",
       "      <td>11791.000000</td>\n",
       "      <td>7.950000</td>\n",
       "      <td>2.500000</td>\n",
       "    </tr>\n",
       "  </tbody>\n",
       "</table>\n",
       "</div>"
      ],
      "text/plain": [
       "         Unnamed: 0         nota  nota_redacao\n",
       "count   5651.000000  5651.000000   5651.000000\n",
       "mean    5425.776500     6.071370      1.668875\n",
       "std     3654.898507     0.709429      0.310475\n",
       "min        0.000000     5.000000      0.300000\n",
       "25%     1459.500000     5.500000      1.500000\n",
       "50%     7182.000000     5.950000      1.700000\n",
       "75%     8707.500000     6.550000      1.900000\n",
       "max    11791.000000     7.950000      2.500000"
      ]
     },
     "execution_count": 13,
     "metadata": {},
     "output_type": "execute_result"
    }
   ],
   "source": [
    "#Estatísticas do público alvo potencial;\n",
    "# Representa (46,70%) da população total de alunos (12.100)\n",
    "# Média da nota da prova (6,07); média da nota da redação (1,67). Mantém a correlação alta entre as variáveis;\n",
    "# Média da nota da prova, bastante inferior, se comparada ao grupo 1, se deve ao fato em que a variância neste grupo é alta;\n",
    "# Variância dos resultados da prova (70,94%); variância dos resultados da nota da redação (31,04%);\n",
    "# Até 75% dos alunos tiveram com nota da prova (6,55) e da redação (1,90);\n",
    "# A nota máxima da prova foi (7,95) e da redação (1,90);\n",
    "# A nota mínima deste grupo na prova foi (5,00) e na redação (0,3);\n",
    "# Observa-se que neste grupo que as médias das notas da prova foram muito mais afetadas que as da redação;\n",
    "pa_g2.describe()"
   ]
  },
  {
   "cell_type": "code",
   "execution_count": 14,
   "metadata": {},
   "outputs": [
    {
     "data": {
      "text/plain": [
       "PA - Pará                   608\n",
       "GO - Goiás                  570\n",
       "RJ - Rio de Janeiro         445\n",
       "MG - Minas Gerais           420\n",
       "MS - Mato Grosso do Sul     405\n",
       "BA - Bahia                  387\n",
       "PB - Paraíba                332\n",
       "MA - Maranhão               330\n",
       "RR - Roraima                323\n",
       "SC - Santa Catarina         314\n",
       "RS - Rio Grande do Sul      275\n",
       "CE - Ceará                  269\n",
       "RO - Rondônia               206\n",
       "TO - Tocantins              194\n",
       "MT - Mato Grosso            165\n",
       "PE - Pernambuco              83\n",
       "RN - Rio Grande do Norte     82\n",
       "SE - Sergipe                 73\n",
       "AM - Amazonas                62\n",
       "PI - Piauí                   59\n",
       "ES - Espírito Santo          49\n",
       "Name: prova_realizada_em, dtype: int64"
      ]
     },
     "execution_count": 14,
     "metadata": {},
     "output_type": "execute_result"
    }
   ],
   "source": [
    "# Perfil segundo a localização geográfica:\n",
    "# No que tange ao local onde a prova foi realizada destacam-se as UF: PA, GO, RJ, MG, MS\n",
    "# Representam da 1º a 5º posição;\n",
    "# Importante observar que PA foi o local com maior número de alunos: 1.556\n",
    "\n",
    "pa_g2['prova_realizada_em'].value_counts()"
   ]
  },
  {
   "cell_type": "code",
   "execution_count": 16,
   "metadata": {},
   "outputs": [
    {
     "data": {
      "text/plain": [
       "Masculino    59.688551\n",
       "Feminino     40.063706\n",
       "Name: sexo, dtype: float64"
      ]
     },
     "execution_count": 16,
     "metadata": {},
     "output_type": "execute_result"
    }
   ],
   "source": [
    "# Pefil dos alunos segundo o Gênero:\n",
    "# 59,68% homens e 40,06% mulheres\n",
    "# Neste grupo a participação por gênero é mais equânime\n",
    "pa_g2['sexo'].value_counts()/5651*(100)"
   ]
  },
  {
   "cell_type": "code",
   "execution_count": 17,
   "metadata": {},
   "outputs": [
    {
     "data": {
      "text/plain": [
       "Solteiro(a)      63.617059\n",
       "Casado(a)        30.578659\n",
       "Divorciado(a)     4.176252\n",
       "Separado(a)       1.008671\n",
       "Viúvo(a)          0.353920\n",
       "0                 0.017696\n",
       "Name: estado_civil, dtype: float64"
      ]
     },
     "execution_count": 17,
     "metadata": {},
     "output_type": "execute_result"
    }
   ],
   "source": [
    "# Perfil dos alunos segundo o estado civil:\n",
    "# Solteiros representam 63,61%;\n",
    "# Casados representam 30,57%;\n",
    "# Participação semelhante a observada no perfil público alvo;\n",
    "pa_g2['estado_civil'].value_counts()/5651*100"
   ]
  },
  {
   "cell_type": "code",
   "execution_count": 18,
   "metadata": {},
   "outputs": [
    {
     "data": {
      "text/plain": [
       "Ensino médio           55.423819\n",
       "Superior               24.986728\n",
       "Superior incompleto    10.157494\n",
       "Especialização          4.052380\n",
       "Nível técnico           3.592285\n",
       "Mestrado                0.796319\n",
       "MBA                     0.371616\n",
       "Ensino fundamental      0.176960\n",
       "Doutorado               0.123872\n",
       "Não informado           0.070784\n",
       "Name: escolaridade, dtype: float64"
      ]
     },
     "execution_count": 18,
     "metadata": {},
     "output_type": "execute_result"
    }
   ],
   "source": [
    "# Perfil dos alunos segundo a escolaridade:\n",
    "# Com ensino médio representam 55,42%   \n",
    "# Com ensino superior representam 24,99% \n",
    "# Se comparado ao grupo 1 perfil vencedor pode-se verificar uma inversão das posições, uma vez, que naquele grupo\n",
    "# destacavam-se os alunos com nível superior (43,75%);\n",
    "pa_g2['escolaridade'].value_counts()/5651*100"
   ]
  },
  {
   "cell_type": "code",
   "execution_count": 20,
   "metadata": {},
   "outputs": [
    {
     "data": {
      "text/plain": [
       "Noite    55.866218\n",
       "manhã    43.886038\n",
       "Name: horario_da_prova, dtype: float64"
      ]
     },
     "execution_count": 20,
     "metadata": {},
     "output_type": "execute_result"
    }
   ],
   "source": [
    "# Pravalece o grupo de alunos que realizaram a prova a noite. Esta pode estar relacionada a realização de atividade \n",
    "# profissional no período da manhã; \n",
    "pa_g2['horario_da_prova'].value_counts()/5651*100"
   ]
  },
  {
   "cell_type": "code",
   "execution_count": 22,
   "metadata": {},
   "outputs": [
    {
     "data": {
      "text/plain": [
       "16/01/2017    8.724120\n",
       "15/01/2017    8.069368\n",
       "13/08/2016    6.582906\n",
       "12/08/2016    6.335162\n",
       "11/08/2016    5.184923\n",
       "08/08/2016    5.167227\n",
       "14/01/2017    4.795611\n",
       "12/01/2017    4.530172\n",
       "13/01/2017    4.530172\n",
       "17/01/2017    4.016988\n",
       "04/08/2016    3.893116\n",
       "10/01/2017    3.379933\n",
       "09/01/2017    3.309149\n",
       "07/08/2016    3.132189\n",
       "05/08/2016    3.026013\n",
       "09/08/2016    2.795965\n",
       "06/08/2016    2.742877\n",
       "05/01/2017    2.583614\n",
       "01/08/2016    1.999646\n",
       "06/01/2017    1.911166\n",
       "07/01/2017    1.840382\n",
       "28/07/2016    1.822686\n",
       "08/01/2017    1.804990\n",
       "02/08/2016    1.468767\n",
       "31/07/2016    1.397983\n",
       "29/07/2016    1.238719\n",
       "02/01/2017    0.955583\n",
       "30/07/2016    0.884799\n",
       "03/01/2017    0.884799\n",
       "01/01/2017    0.300832\n",
       "11/01/2017    0.230048\n",
       "10/08/2016    0.141568\n",
       "31/12/2016    0.070784\n",
       "Name: dia_da_prova_realizada, dtype: float64"
      ]
     },
     "execution_count": 22,
     "metadata": {},
     "output_type": "execute_result"
    }
   ],
   "source": [
    "# 16/01/2017 Segunda-feira\n",
    "# 15/01/2017 Domingo\n",
    "# 13/08/2016 Sábado\n",
    "# 12/08/2016 Sexta-feira\n",
    "# Aproximadamente 22% dos alunos realizaram a prova no sábado, domingo ou segunda-feira, fortalecendo a hipótese \n",
    "# de possivel vínculo profissional ou outras atividades;\n",
    "pa_g2['dia_da_prova_realizada'].value_counts()/5651*100"
   ]
  },
  {
   "cell_type": "code",
   "execution_count": null,
   "metadata": {},
   "outputs": [],
   "source": [
    "# OUTROS INSIGHTS\n",
    "# Em síntese o grupo g2 - público alvo potencial tem como origem geográfica regiões de menor desenvolvimento econômico, \n",
    "# Possui uma participação por gênero mais equitativa e um nível de escolaridade menor quando comparado ao grupo 1.\n",
    "# A partir desta característica é possível estabelecer a hipótese de que o mesmo possa possuir algum tipo de vínculo\n",
    "# atribuição ou outros fatores que impactam / restringem seu tempo de estudo e/ou sistema de estudos e por consequência \n",
    "# seu resultado; Neste sentido, ações que tornem o processo de aprendizagem mais dinâmico, também aquelas que impliquem \n",
    "# no estabelecimento de rotinas que possam ser desenvolvidas um um curto perído de tempo, talvez, possam apresentar mair\n",
    "# eficiência para o desenvolvimento deste grupo;\n"
   ]
  },
  {
   "cell_type": "code",
   "execution_count": null,
   "metadata": {},
   "outputs": [],
   "source": []
  }
 ],
 "metadata": {
  "kernelspec": {
   "display_name": "Python 3",
   "language": "python",
   "name": "python3"
  },
  "language_info": {
   "codemirror_mode": {
    "name": "ipython",
    "version": 3
   },
   "file_extension": ".py",
   "mimetype": "text/x-python",
   "name": "python",
   "nbconvert_exporter": "python",
   "pygments_lexer": "ipython3",
   "version": "3.7.3"
  }
 },
 "nbformat": 4,
 "nbformat_minor": 2
}
